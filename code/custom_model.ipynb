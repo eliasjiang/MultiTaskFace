{
 "cells": [
  {
   "cell_type": "code",
   "execution_count": 1,
   "metadata": {},
   "outputs": [],
   "source": [
    "\n",
    "from my_config import *"
   ]
  },
  {
   "cell_type": "code",
   "execution_count": 2,
   "metadata": {},
   "outputs": [],
   "source": [
    "import torchvision.models as models"
   ]
  },
  {
   "cell_type": "code",
   "execution_count": 8,
   "metadata": {},
   "outputs": [],
   "source": [
    "\n"
   ]
  },
  {
   "cell_type": "code",
   "execution_count": 3,
   "metadata": {},
   "outputs": [],
   "source": [
    "class CustomVGG(nn.Module):\n",
    "    def __init__(self):\n",
    "        super(CustomVGG, self).__init__()\n",
    "        vgg = models.vgg16(pretrained=True)\n",
    "        self.features = vgg.features\n",
    "        self.avgpool = vgg.avgpool\n",
    "        self.classifier = nn.Sequential(\n",
    "            *list(vgg.classifier.children())[:-1],\n",
    "            nn.Dropout(p=0.5)\n",
    "            )\n",
    "        \n",
    "        self.fc_age = nn.Linear(4096, 1)    # Is the person young?\n",
    "        self.fc_race = nn.Linear(4096, 1)   # Is the person white-skinned?\n",
    "        self.fc_gender = nn.Linear(4096, 1) # Is the person male?\n",
    "    \n",
    "    def forward(self, x):\n",
    "        x = self.features(x)\n",
    "        x = self.avgpool(x)\n",
    "        x = torch.flatten(x, 1)  # Flatten the features\n",
    "        x = self.classifier(x)   # Pass through the modified classifier\n",
    "        \n",
    "        age_out = torch.sigmoid(self.fc_age(x))\n",
    "        race_out = torch.sigmoid(self.fc_race(x))\n",
    "        gender_out = torch.sigmoid(self.fc_gender(x))\n",
    "        \n",
    "        return age_out, race_out, gender_out\n",
    "        "
   ]
  },
  {
   "cell_type": "code",
   "execution_count": 4,
   "metadata": {},
   "outputs": [
    {
     "name": "stderr",
     "output_type": "stream",
     "text": [
      "c:\\Users\\eliasjiang\\anaconda3\\envs\\facetraining\\Lib\\site-packages\\torchvision\\models\\_utils.py:208: UserWarning: The parameter 'pretrained' is deprecated since 0.13 and may be removed in the future, please use 'weights' instead.\n",
      "  warnings.warn(\n",
      "c:\\Users\\eliasjiang\\anaconda3\\envs\\facetraining\\Lib\\site-packages\\torchvision\\models\\_utils.py:223: UserWarning: Arguments other than a weight enum or `None` for 'weights' are deprecated since 0.13 and may be removed in the future. The current behavior is equivalent to passing `weights=VGG16_Weights.IMAGENET1K_V1`. You can also use `weights=VGG16_Weights.DEFAULT` to get the most up-to-date weights.\n",
      "  warnings.warn(msg)\n"
     ]
    }
   ],
   "source": [
    "model = CustomVGG()"
   ]
  }
 ],
 "metadata": {
  "kernelspec": {
   "display_name": "facetraining",
   "language": "python",
   "name": "python3"
  },
  "language_info": {
   "codemirror_mode": {
    "name": "ipython",
    "version": 3
   },
   "file_extension": ".py",
   "mimetype": "text/x-python",
   "name": "python",
   "nbconvert_exporter": "python",
   "pygments_lexer": "ipython3",
   "version": "3.11.0"
  }
 },
 "nbformat": 4,
 "nbformat_minor": 2
}
